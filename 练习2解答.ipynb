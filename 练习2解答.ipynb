{
 "cells": [
  {
   "cell_type": "markdown",
   "metadata": {},
   "source": [
    "参考提供的代码框架，将TODO补全后如下"
   ]
  },
  {
   "cell_type": "code",
   "execution_count": 1,
   "metadata": {},
   "outputs": [
    {
     "name": "stdout",
     "output_type": "stream",
     "text": [
      "(24, 24)\n"
     ]
    },
    {
     "data": {
      "text/plain": [
       "\"\\n# 字体\\nfont = ImageFont.truetype('arial', 32)\\n\\n# 创建输出文件夹\\nos.makedirs('data', exist_ok=True)\\n\\nfor char in chars:\\n    # 创建新的黑白图像\\n    img = Image.new('L', (image_size, ) * 2, color=0)\\n    # 绘制文字\\n    ImageDraw.Draw(img).text(pos, chr(char), font=font, fill=255, anchor='mm')\\n    # 保存图像\\n    img.save(f'data/0x{char:04X}.jpg')\\n\""
      ]
     },
     "execution_count": 1,
     "metadata": {},
     "output_type": "execute_result"
    }
   ],
   "source": [
    "from PIL import Image, ImageDraw, ImageFont\n",
    "import os\n",
    "\n",
    "# 字符集\n",
    "chars = [\n",
    "    range(0x0021,0x007E+1),range(0x00A1,0x00AC+1),range(0x00AE,0x0377+1),range(0x037A,0x037F+1),\n",
    "    range(0x0384,0x038A+1),range(0x038C,0x038C+1),range(0x038E,0x052F+1)\n",
    "]\n",
    "\n",
    "# 将chars中的range展开为一维数组\n",
    "chars = [j for i in chars for j in i]\n",
    "\n",
    "# 图像尺寸\n",
    "image_size = 48\n",
    "\n",
    "# 图像中心\n",
    "pos = (image_size // 2, ) * 2\n",
    "\n",
    "# 字体\n",
    "font = ImageFont.truetype('arial', 32)\n",
    "\n",
    "# 创建输出文件夹\n",
    "os.makedirs('data', exist_ok=True)\n",
    "\n",
    "for char in chars:\n",
    "    # 创建新的黑白图像\n",
    "    img = Image.new('L', (image_size, ) * 2, color=0)\n",
    "    # 绘制文字\n",
    "    ImageDraw.Draw(img).text(pos, chr(char), font=font, fill=255, anchor='mm')\n",
    "    # 保存图像\n",
    "    img.save(f'data/0x{char:04X}.jpg')\n"
   ]
  }
 ],
 "metadata": {
  "kernelspec": {
   "display_name": "Python 3",
   "language": "python",
   "name": "python3"
  },
  "language_info": {
   "codemirror_mode": {
    "name": "ipython",
    "version": 3
   },
   "file_extension": ".py",
   "mimetype": "text/x-python",
   "name": "python",
   "nbconvert_exporter": "python",
   "pygments_lexer": "ipython3",
   "version": "3.9.13"
  },
  "orig_nbformat": 4,
  "vscode": {
   "interpreter": {
    "hash": "70f3b6f3186ac5eb7a7b44422c7e937631bceac8e358a36f9e12771b61974c1a"
   }
  }
 },
 "nbformat": 4,
 "nbformat_minor": 2
}
