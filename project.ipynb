{
 "cells": [
  {
   "attachments": {},
   "cell_type": "markdown",
   "metadata": {},
   "source": [
    "# Tensor 编程大作业-模板匹配"
   ]
  },
  {
   "attachments": {},
   "cell_type": "markdown",
   "metadata": {},
   "source": [
    "学习了tensor的基础操作之后，我们可以使用tensor来完成一项简单的模板匹配问题。首先读取一幅图像以及一幅模板图像。"
   ]
  },
  {
   "cell_type": "code",
   "execution_count": null,
   "metadata": {},
   "outputs": [],
   "source": [
    "import cv2\n",
    "import torch\n",
    "import matplotlib.pyplot as plt\n",
    "image = cv2.cvtColor(cv2.imread(\"image.jpg\"), cv2.COLOR_BGR2GRAY)\n",
    "template = cv2.cvtColor(cv2.imread(\"template.jpg\"), cv2.COLOR_BGR2GRAY)\n",
    "plt.figure()\n",
    "plt.imshow(image, cmap='gray')\n",
    "plt.title('image')\n",
    "plt.axis('off')\n",
    "plt.figure()\n",
    "plt.imshow(template, cmap='gray')\n",
    "plt.title('template')\n",
    "plt.axis('off')"
   ]
  },
  {
   "attachments": {},
   "cell_type": "markdown",
   "metadata": {},
   "source": [
    "OpenCV读取的图像是numpy的ndarrays格式，需要将其转换为tensor。"
   ]
  },
  {
   "cell_type": "code",
   "execution_count": null,
   "metadata": {},
   "outputs": [],
   "source": [
    "image = ???\n",
    "template = ???"
   ]
  },
  {
   "attachments": {},
   "cell_type": "markdown",
   "metadata": {},
   "source": [
    "获取图像和模板图像的尺寸，由于二者都是正方形，因此只需要得到图像和模板图像的边长。"
   ]
  },
  {
   "cell_type": "code",
   "execution_count": null,
   "metadata": {},
   "outputs": [],
   "source": [
    "image_shape = ???\n",
    "template_shape = ???"
   ]
  },
  {
   "attachments": {},
   "cell_type": "markdown",
   "metadata": {},
   "source": [
    "开始进行模板匹配。对图像进行遍历，按照从左到右、从上到下的顺序依次取出和模板同样大小的正方形区域（切片），对取出的区域计算与模板的相似度。对于两幅同样大小的图像$X$和$Y$，二者的相似度s可以按照如下公式计算：\n",
    "$X_{norm} = \\sqrt{\\sum_i\\sum_j X_{i,j}*X_{i,j}}$,\n",
    "$Y_{norm} = \\sqrt{\\sum_i\\sum_j Y_{i,j}*Y_{i,j}}$,\n",
    "$s=\\frac{\\sum_i\\sum_j X_{i,j}*Y_{i,j}}{X_{norm} * Y_{norm}}$."
   ]
  },
  {
   "cell_type": "code",
   "execution_count": null,
   "metadata": {},
   "outputs": [],
   "source": [
    "max_similarity = 0\n",
    "matched_position = None\n",
    "for i in range(image_shape - template_shape):\n",
    "    for j in range(image_shape - template_shape):\n",
    "        i_end = i + template_shape\n",
    "        j_end = j + template_shape\n",
    "        image_crop = ???\n",
    "        image_crop_norm = ???\n",
    "        template_norm = ???\n",
    "        similarity = ???\n",
    "        if similarity > max_similarity:\n",
    "            matched_position = (j, i)\n",
    "            max_similarity = similarity"
   ]
  },
  {
   "attachments": {},
   "cell_type": "markdown",
   "metadata": {},
   "source": [
    "最后对于最大相似度大于0.8的匹配结果，认为匹配成功，对匹配的位置进行可视化之前，需要先将图像从tensor转化为numpy的ndarrays格式。"
   ]
  },
  {
   "cell_type": "code",
   "execution_count": null,
   "metadata": {},
   "outputs": [],
   "source": [
    "if max_similarity <= 0.8:\n",
    "    print(\"未匹配成功\")\n",
    "else:\n",
    "    image = ??? \n",
    "    image = cv2.rectangle(image, matched_position, (matched_position[0] + template_shape, matched_position[1] + template_shape), color=255)\n",
    "    cv2.imwrite(\"result.jpg\", image)\n",
    "    plt.figure()\n",
    "    plt.imshow(image, cmap='gray')\n",
    "    plt.title('result')\n",
    "    plt.axis('off')\n",
    "    "
   ]
  }
 ],
 "metadata": {
  "kernelspec": {
   "display_name": "base",
   "language": "python",
   "name": "python3"
  },
  "language_info": {
   "codemirror_mode": {
    "name": "ipython",
    "version": 3
   },
   "file_extension": ".py",
   "mimetype": "text/x-python",
   "name": "python",
   "nbconvert_exporter": "python",
   "pygments_lexer": "ipython3",
   "version": "3.7.6 (default, Jan  8 2020, 20:23:39) [MSC v.1916 64 bit (AMD64)]"
  },
  "orig_nbformat": 4,
  "vscode": {
   "interpreter": {
    "hash": "d7288e82646d3164eca24130947288f8779d11454649f2c02a5dfc42af7f324c"
   }
  }
 },
 "nbformat": 4,
 "nbformat_minor": 2
}
