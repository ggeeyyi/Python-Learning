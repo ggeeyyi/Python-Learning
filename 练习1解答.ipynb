{
 "cells": [
  {
   "attachments": {},
   "cell_type": "markdown",
   "metadata": {},
   "source": [
    "#### 第一题：两数和\n",
    "\n",
    "题目要求我们找出两个下标i、j使得nums[i]+nums[j]==target，\n",
    "\n",
    "简单的做法是遍历所有的i，看是否存在j使得nums[j]==target-nums[i]，\n",
    "\n",
    "那么我们只需要用字典存储{nums[j]:j}，然后判断target-nums[i]是否在字典中就行了"
   ]
  },
  {
   "cell_type": "code",
   "execution_count": 2,
   "metadata": {},
   "outputs": [],
   "source": [
    "def twoSum(nums, target):\n",
    "    d = {}\n",
    "    for i, j in enumerate(nums):\n",
    "        k = target - j\n",
    "        if k in d:\n",
    "            return [i, d[k]]\n",
    "        else:\n",
    "            d[j] = i"
   ]
  },
  {
   "cell_type": "code",
   "execution_count": 3,
   "metadata": {},
   "outputs": [
    {
     "data": {
      "text/plain": [
       "[1, 0]"
      ]
     },
     "execution_count": 3,
     "metadata": {},
     "output_type": "execute_result"
    }
   ],
   "source": [
    "twoSum([2,7,11,15], 9)"
   ]
  },
  {
   "cell_type": "markdown",
   "metadata": {},
   "source": [
    "#### 第二题：字符串压缩\n",
    "\n",
    "本题也很简单，我们只需要遍历输入的字符串中的字符，统计出现次数"
   ]
  },
  {
   "cell_type": "code",
   "execution_count": 5,
   "metadata": {},
   "outputs": [],
   "source": [
    "def compressString(string):\n",
    "    # 处理空字符串，以及长度为1、2的不可压缩字符串\n",
    "    if len(string)<=2:\n",
    "        return string\n",
    "    # 上一个字符\n",
    "    last=string[0]\n",
    "    # 计数\n",
    "    count=1\n",
    "    # 输出字符串\n",
    "    output=''\n",
    "    for i in string[1:]:\n",
    "        if i==last:\n",
    "            count+=1\n",
    "        else:\n",
    "            output+=f'{last}{count}'\n",
    "            last=i\n",
    "            count=1\n",
    "    output+=f'{last}{count}'\n",
    "    return string if len(string)<=len(output) else output"
   ]
  },
  {
   "cell_type": "code",
   "execution_count": 6,
   "metadata": {},
   "outputs": [
    {
     "data": {
      "text/plain": [
       "'a2b1c5a3'"
      ]
     },
     "execution_count": 6,
     "metadata": {},
     "output_type": "execute_result"
    }
   ],
   "source": [
    "compressString('aabcccccaaa')"
   ]
  },
  {
   "cell_type": "code",
   "execution_count": 7,
   "metadata": {},
   "outputs": [
    {
     "data": {
      "text/plain": [
       "'abbccd'"
      ]
     },
     "execution_count": 7,
     "metadata": {},
     "output_type": "execute_result"
    }
   ],
   "source": [
    "compressString('abbccd')"
   ]
  },
  {
   "cell_type": "markdown",
   "metadata": {},
   "source": [
    "#### 第三题"
   ]
  },
  {
   "cell_type": "code",
   "execution_count": 1,
   "metadata": {},
   "outputs": [],
   "source": [
    "with open('./dec.txt', 'r') as f1:  # 输入文件\n",
    "    with open('./bin.txt', 'w') as f2:  # 输出文件\n",
    "        for l in f1:  # 逐行读取文件信息\n",
    "            l = l.strip()\n",
    "            l = l.strip('()')\n",
    "            x, y = l.split(\",\")\n",
    "            x = int(x)\n",
    "            y = int(y)\n",
    "            # 正确处理负数\n",
    "            if x < 0:\n",
    "                x = x & 0xff\n",
    "            if y < 0:\n",
    "                y = y & 0xff\n",
    "            if False:\n",
    "                # 方案一：用bin转换，用rjust填充\n",
    "                x_bin = bin(x)[2:].rjust(8, '0')\n",
    "                y_bin = bin(y)[2:].rjust(8, '0')\n",
    "                f2.write('(' + x_bin + ',' + y_bin + ')\\n')\n",
    "            else:\n",
    "                # 方案二：直接用模板字符串\n",
    "                f2.write(f'({x:08b},{y:08b})\\n')"
   ]
  }
 ],
 "metadata": {
  "kernelspec": {
   "display_name": "Python 3",
   "language": "python",
   "name": "python3"
  },
  "language_info": {
   "codemirror_mode": {
    "name": "ipython",
    "version": 3
   },
   "file_extension": ".py",
   "mimetype": "text/x-python",
   "name": "python",
   "nbconvert_exporter": "python",
   "pygments_lexer": "ipython3",
   "version": "3.10.10"
  },
  "orig_nbformat": 4,
  "vscode": {
   "interpreter": {
    "hash": "7eb9ac7ddc3631ce60c0acdd480ad2656a0244aaea55381dca5e5cfb1c75d288"
   }
  }
 },
 "nbformat": 4,
 "nbformat_minor": 2
}
