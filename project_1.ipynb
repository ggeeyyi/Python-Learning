{
 "cells": [
  {
   "cell_type": "markdown",
   "metadata": {
    "collapsed": false
   },
   "source": [
    "# 综合实战作业 1\n",
    "\n",
    "> by [@RainEggplant](https://github.com/RainEggplant/)\n",
    "\n",
    "在本次作业中，我们将使用 NumPy 和 PyTorch 计算第一讲中生成的字符图像间的相似度并进行排序，输出不同相似度的图像对。你只需要在 `# >>> TODO` 和 `# <<< TODO` 间填写代码。"
   ]
  },
  {
   "cell_type": "markdown",
   "metadata": {
    "collapsed": false
   },
   "source": [
    "## 数据读取\n",
    "\n",
    "首先，让我们定义加载数据集的函数。步骤如下：\n",
    "\n",
    "- 先使用 `pathlib.Path.glob` 找出所有扩展名为 `.jpg` 的文件。如果你不习惯使用 `pathlib` 库，可以用 `os` 和 `glob` 库替代。\n",
    "- 再使用 `cv2.imread` 读取图像并用 `cv2.cvtColor` 转换为灰度格式，并用 `pathlib.Path.stem` 提取文件名。\n",
    "- 通过列表生成式生成所有的数据条目 `data`。\n",
    "\n",
    "`data` 中每条数据的格式为 `(img_name: str, img: numpy.ndarray)`。"
   ]
  },
  {
   "cell_type": "code",
   "execution_count": 3,
   "metadata": {
    "collapsed": false
   },
   "outputs": [],
   "source": [
    "import cv2\n",
    "from pathlib import Path\n",
    "def load_dataset(data_root):\n",
    "    data = [(f.stem, cv2.cvtColor(cv2.imread(str(f)), cv2.COLOR_BGR2GRAY))\n",
    "    for f in Path(data_root).glob('*.jpg')]\n",
    "    return data"
   ]
  },
  {
   "cell_type": "markdown",
   "metadata": {
    "collapsed": false
   },
   "source": [
    "让我们读取数据集，并使用 `matplotlib` 打印图像看看它长什么样子。"
   ]
  },
  {
   "cell_type": "code",
   "execution_count": 4,
   "metadata": {
    "collapsed": false
   },
   "outputs": [
    {
     "data": {
      "image/png": "[encoded data removed]",
      "text/plain": [
       "<Figure size 640x480 with 1 Axes>"
      ]
     },
     "metadata": {},
     "output_type": "display_data"
    }
   ],
   "source": [
    "import matplotlib.pyplot as plt\n",
    "\n",
    "data = load_dataset('./data')\n",
    "\n",
    "def imshow(img, title=None):\n",
    "    plt.figure()\n",
    "    plt.imshow(img, cmap='gray')\n",
    "    if title is not None: plt.title(title)\n",
    "    plt.axis('off')\n",
    "\n",
    "img_name, img = data[0]\n",
    "imshow(img, img_name)"
   ]
  },
  {
   "cell_type": "markdown",
   "metadata": {
    "collapsed": false
   },
   "source": [
    "我们检测重复和相似图像的原理是计算图像向量间的余弦相似度。对于图像 $\\mathbf X_1, \\mathbf X_2 \\in M_{H,W,C} (\\mathbb R)$，我们首先将其展平为列向量 $\\boldsymbol y_1, \\boldsymbol y_2 \\in \\mathbb R^{HWC}$，然后计算两个向量的余弦相似度：\n",
    "$$\n",
    "S_{C}(\\boldsymbol y_1, \\boldsymbol y_2):=\\frac{\\boldsymbol y_1 \\cdot \\boldsymbol y_2}{\\|\\boldsymbol y_1 \\|\\|\\boldsymbol y_2 \\|}\n",
    "$$\n",
    "相似度越接近 1，说明两幅图像越相似。在计算相似度时，建议先将像素取值转换为浮点数并归一化，防止溢出和数据类型带来的问题。\n",
    "\n",
    "下面我们将按照这个思路，分别采用 NumPy 和 PyTorch 实现计算图像相似度的算法（PyTorch 部分内容可在第三讲培训之后完成），并对比不同实现的速度。特别地，对于 NumPy， 我们先尝试简单的多重 for 循环的实现，再尝试采用矩阵计算的实现。"
   ]
  },
  {
   "cell_type": "markdown",
   "metadata": {
    "collapsed": false
   },
   "source": [
    "## 使用 NumPy 和两重循环\n",
    "\n",
    "下面请你用两重循环，计算图片间的两两相似度，并将相似度取值和对应的图像对序号保存到列表中。注意不要包括“图像自己和自己组成的图像对”以及“可交换顺序的图像组成的图像对”。"
   ]
  },
  {
   "cell_type": "code",
   "execution_count": 5,
   "metadata": {
    "collapsed": false
   },
   "outputs": [],
   "source": [
    "import numpy as np\n",
    "\n",
    "similarity_list = []\n",
    "pair_list = []\n",
    "# >>> TODO\n",
    "for i in range(len(data)):\n",
    "    for j in range(i + 1, len(data)):\n",
    "        y_a = np.ravel(data[i][1].astype(float) / 255)  # 使用 `np.ravel` 将图像展平为向量\n",
    "        y_b = np.ravel(data[j][1].astype(float) / 255)\n",
    "        similarity = np.dot(y_a, y_b) / (np.linalg.norm(y_a) * np.linalg.norm(y_b))\n",
    "        similarity_list.append(similarity)\n",
    "        pair_list.append((i, j))\n",
    "# <<< TODO"
   ]
  },
  {
   "cell_type": "markdown",
   "metadata": {
    "collapsed": false
   },
   "source": [
    "挺慢是吧！下一节直接用矩阵计算时，你就能非常直观地感受运算速度的差别。\n",
    "\n",
    "下面请你按照从大到小的顺序对相似度进行排序，保存排序后的索引列表。"
   ]
  },
  {
   "cell_type": "code",
   "execution_count": 6,
   "metadata": {
    "collapsed": false
   },
   "outputs": [
    {
     "name": "stdout",
     "output_type": "stream",
     "text": [
      "[   382  88477  89657 ... 611401 611402 126575]\n"
     ]
    }
   ],
   "source": [
    "# >>> TODO\n",
    "indexes = np.flip(np.argsort(similarity_list))\n",
    "print(indexes)\n",
    "\n",
    "# <<< TODO"
   ]
  },
  {
   "cell_type": "markdown",
   "metadata": {
    "collapsed": false
   },
   "source": [
    "## 使用 NumPy 和矩阵运算\n",
    "\n",
    "其实，我们可以使用矩阵运算一次性计算所有图像的两两相似度，这可以大大加快计算速度。计算公式如下：\n",
    "$$\n",
    "\\mathbf Y = \\begin{pmatrix}\n",
    "\\boldsymbol y_1^\\intercal \\\\\n",
    "\\boldsymbol y_2^\\intercal \\\\\n",
    "\\vdots \\\\\n",
    "\\boldsymbol y_n^\\intercal\n",
    "\\end{pmatrix}\n",
    "\\\\\n",
    "\\mathbf W = \\mathbf Y \\mathbf Y^\\intercal \\\\\n",
    "\\mathbf N = (\\|\\boldsymbol y_1 \\|, \\|\\boldsymbol y_2 \\|, \\dots, \\|\\boldsymbol y_n \\|)^\\intercal(\\|\\boldsymbol y_1 \\|, \\|\\boldsymbol y_2 \\|, \\dots, \\|\\boldsymbol y_n \\|) \\\\\n",
    "\\mathbf S = \\mathbf W \\oslash \\mathbf N\n",
    "$$\n",
    "\n",
    "其中 $\\oslash$ 表示逐元素除法。则图像 $\\mathbf X_i, \\mathbf X_j$ 的相似度为 $\\mathbf S$ 的元素 $s_{i,j}$。\n",
    "\n",
    "下面请你根据以上计算公式，完成矩阵版本的 NumPy 计算代码。"
   ]
  },
  {
   "cell_type": "code",
   "execution_count": 7,
   "metadata": {
    "collapsed": false
   },
   "outputs": [],
   "source": [
    "# >>> TODO\n",
    "Y = np.stack([np.ravel(x[1]) for x in data])\n",
    "# 将数据格式从 uint8 转为 float 以便后续计算。\n",
    "Y = Y.astype(float) / 255\n",
    "\n",
    "W = Y @ Y.T\n",
    "N = np.linalg.norm(Y, axis=1)  # 求每行向量的模长\n",
    "N = N[..., None] * N[None]  # nx1 数组与 1xn 数组相乘\n",
    "S = W / N  # 逐元素除法\n",
    "# <<< TODO"
   ]
  },
  {
   "cell_type": "markdown",
   "metadata": {
    "collapsed": false
   },
   "source": [
    "因为每幅图像与自身的相似度一定为 1，且矩阵 $\\mathbf S$ 为对称矩阵，所以实际有效的部分为 $\\mathbf S$ 的减去主对角线的上三角矩阵。然后，我们对相似度按从大到小的方向进行排序，即可找出相同或相似的图像对。请你完成如下排序代码，要求最终得到元素为 `(行号，列号)` 的索引列表。"
   ]
  },
  {
   "cell_type": "code",
   "execution_count": 8,
   "metadata": {
    "collapsed": false
   },
   "outputs": [],
   "source": [
    "S = np.triu(S, k=1)  # S 的减去主对角线的上三角矩阵\n",
    "# >>> TODO\n",
    "# 对 S 的元素按照从大到小进行排序，得到元素的索引。\n",
    "indexes = np.flip(S.argsort(axis=None))\n",
    "# 使用 `np.unravel_index` 根据数组的尺寸将索引转换为 `(行号，列号)` 形式。\n",
    "indexes = [np.unravel_index(i, S.shape) for i in indexes]\n",
    "# <<< TODO"
   ]
  },
  {
   "cell_type": "markdown",
   "metadata": {
    "collapsed": false
   },
   "source": [
    "下面我们借助 matplotlib 来看一看不同相似度的图像（还没学过 matplotlib 没关系，相关的代码已为你写好）。请你定义一个 `plot_results(data, S, indexes)` 函数，接受图像数据 `data`、相似度矩阵 `S` 和排序后的索引 `indexes` 为输入，以 2x2 subplot 的方式，画出相似度排名最高、第 0.1%、第 1% 和第 10% 的图像对。要求在每个 subplot 中，先将图像对的两幅图像沿宽度拼接，然后再进行绘制，并使用相似度作为图像的标题。"
   ]
  },
  {
   "cell_type": "code",
   "execution_count": 9,
   "metadata": {
    "collapsed": false
   },
   "outputs": [
    {
     "data": {
      "image/png": "[encoded data removed]",
      "text/plain": [
       "<Figure size 640x480 with 4 Axes>"
      ]
     },
     "metadata": {},
     "output_type": "display_data"
    }
   ],
   "source": [
    "def plot_results(data, S, indexes):\n",
    "    plot_indexes = [0, int((len(indexes) - 1) * 1e-3),\n",
    "                    int((len(indexes) - 1) * 1e-2), int((len(indexes) - 1) * 1e-1)]\n",
    "    fig, axs = plt.subplots(2, 2)\n",
    "    for r in range(2):\n",
    "        for c in range(2):\n",
    "            # >>> TODO\n",
    "            i = r * 2 + c\n",
    "            img1_id, img2_id = indexes[plot_indexes[i]]\n",
    "            img1_name, img1 = data[img1_id]\n",
    "            img2_name, img2 = data[img2_id]\n",
    "            img = np.hstack([img1, img2])\n",
    "            similarity = S[img1_id, img2_id]\n",
    "            # <<< TODO\n",
    "            axs[r, c].imshow(img, cmap='gray')\n",
    "            axs[r, c].set_title(f'Similarity: {similarity:.4f}')\n",
    "            axs[r, c].axis('off')\n",
    "\n",
    "plot_results(data, S, indexes)"
   ]
  },
  {
   "cell_type": "markdown",
   "metadata": {
    "collapsed": false
   },
   "source": [
    "## 使用 PyTorch 和矩阵运算\n",
    "\n",
    "请仿照上一节，使用 PyTorch + 矩阵运算解决该问题。首先请你计算图像的相似度矩阵 `S`："
   ]
  },
  {
   "cell_type": "code",
   "execution_count": 10,
   "metadata": {
    "collapsed": false
   },
   "outputs": [],
   "source": [
    "import torch\n",
    "\n",
    "# 根据 CUDA 是否可用确定使用的设备\n",
    "device = 'cuda' if torch.cuda.is_available() else 'cpu'\n",
    "\n",
    "# >>> TODO\n",
    "# 请注意将 Tensor 存放在 `device` 定义的设备上。\n",
    "# 首先使用 `torch.ravel` 将图像展平为向量，然后使用 `torch.stack` 将所有向量堆叠成二维张量。\n",
    "Y = torch.stack([torch.ravel(torch.tensor(x[1])) for x in data])\n",
    "# 将数据格式从 uint8 转为 float 以便后续计算。\n",
    "Y = Y.to(device, dtype=float) / 255\n",
    "\n",
    "W = Y @ Y.T\n",
    "N = torch.linalg.norm(Y, dim=1)  # 求每行向量的模长\n",
    "N = N[..., None] * N[None]  # nx1 张量与 1xn 张量相乘\n",
    "S = W / N  # 逐元素除法\n",
    "# <<< TODO"
   ]
  },
  {
   "cell_type": "markdown",
   "metadata": {
    "collapsed": false
   },
   "source": [
    "请你仿照上一节，对相似度矩阵 S 的元素进行排序，并得到元素为 `(行号，列号)` 的索引列表："
   ]
  },
  {
   "cell_type": "code",
   "execution_count": 11,
   "metadata": {
    "collapsed": false
   },
   "outputs": [],
   "source": [
    "S = torch.triu(S, diagonal=1)  # S 的减去主对角线的上三角矩阵\n",
    "\n",
    "# >>> TODO\n",
    "# 不同于 NumPy，PyTorch 中对张量的所有元素排序需要先将其展平为向量，不过 PyTorch 可以指定排序的方向。\n",
    "indexes = S.ravel().argsort(descending=True).tolist()\n",
    "# PyTorch 中没有 `np.unravel_index` 这样的函数，不过自己实现也不难。\n",
    "indexes = [(i // S.shape[1], i % S.shape[1]) for i in indexes]\n",
    "# <<< TODO"
   ]
  },
  {
   "cell_type": "markdown",
   "metadata": {
    "collapsed": false
   },
   "source": [
    "让我们看看 PyTorch 的结果吧！"
   ]
  },
  {
   "cell_type": "code",
   "execution_count": 12,
   "metadata": {
    "collapsed": false
   },
   "outputs": [
    {
     "data": {
      "image/png": "[encoded data removed]",
      "text/plain": [
       "<Figure size 640x480 with 4 Axes>"
      ]
     },
     "metadata": {},
     "output_type": "display_data"
    }
   ],
   "source": [
    "plot_results(data, S, indexes)"
   ]
  },
  {
   "cell_type": "markdown",
   "metadata": {
    "collapsed": false
   },
   "source": [
    "## NumPy 和 PyTorch 速度测试\n",
    "\n",
    "最后，让我们对比一下三种方式的执行速度。这里我们会创建一个可以统计函数运行时间的 [装饰器](https://www.liaoxuefeng.com/wiki/1016959663602400/1017451662295584)，感兴趣的同学可以点击链接了解其原理。"
   ]
  },
  {
   "cell_type": "code",
   "execution_count": 13,
   "metadata": {
    "collapsed": false
   },
   "outputs": [],
   "source": [
    "from functools import wraps\n",
    "from time import perf_counter\n",
    "\n",
    "def timer(func):\n",
    "    # This function shows the execution time of the function object passed\n",
    "    @wraps(func)\n",
    "    def wrap_func(*args, **kwargs):\n",
    "        args_str = ', '.join([f'{v!r}' for v in args])\n",
    "        kwargs_str = ', '.join([f'{k}={v!r}' for k, v in kwargs.items()])\n",
    "        comma_str = ', ' if (args_str != '' and kwargs_str != '') else ''\n",
    "        t_start = perf_counter()\n",
    "        result = func(*args, **kwargs)\n",
    "        t_end = perf_counter()\n",
    "        print(f'Function {func.__name__}({args_str}{comma_str}{kwargs_str}) executed in {(t_end - t_start):.4f}s')\n",
    "        return result\n",
    "\n",
    "    return wrap_func"
   ]
  },
  {
   "cell_type": "markdown",
   "metadata": {
    "collapsed": false
   },
   "source": [
    "接下来我们分别定义三种方式的测试函数（你需要把前面的代码复制粘贴过来）。"
   ]
  },
  {
   "cell_type": "code",
   "execution_count": 14,
   "metadata": {
    "collapsed": false
   },
   "outputs": [],
   "source": [
    "@timer\n",
    "def test_numpy_for_loop():\n",
    "    @timer\n",
    "    def load_and_calc():\n",
    "        similarity_list = []\n",
    "        pair_list = []\n",
    "        # >>> TODO\n",
    "        for i in range(len(data)):\n",
    "            for j in range(i + 1, len(data)):\n",
    "                y_a = np.ravel(data[i][1].astype(float) / 255)  # 使用 `np.ravel` 将图像展平为向量\n",
    "                y_b = np.ravel(data[j][1].astype(float) / 255)\n",
    "                similarity = np.dot(y_a, y_b) / (np.linalg.norm(y_a) * np.linalg.norm(y_b))\n",
    "                similarity_list.append(similarity)\n",
    "                pair_list.append((i, j))\n",
    "        # <<< TODO\n",
    "        return similarity_list, pair_list\n",
    "    similarity_list, pair_list = load_and_calc()\n",
    "\n",
    "    @timer\n",
    "    def sort():\n",
    "        # >>> TODO\n",
    "        indexes = np.flip(np.argsort(similarity_list))\n",
    "        # <<< TODO\n",
    "        return indexes\n",
    "    indexes = sort()\n",
    "    return indexes\n",
    "\n",
    "\n",
    "@timer\n",
    "def test_numpy():\n",
    "    @timer\n",
    "    def load():\n",
    "        # >>> TODO\n",
    "        Y = np.stack([np.ravel(x[1]) for x in data])\n",
    "        Y = Y.astype(float) / 255\n",
    "        # <<< TODO\n",
    "        return Y\n",
    "    Y = load()\n",
    "\n",
    "    @timer\n",
    "    def calc():\n",
    "        # >>> TODO\n",
    "        W = Y @ Y.T\n",
    "        N = np.linalg.norm(Y, axis=1)\n",
    "        N = N[..., None] * N[None]\n",
    "        S = W / N\n",
    "        # <<< TODO\n",
    "        S = np.triu(S, k=1)\n",
    "        return S\n",
    "    S = calc()\n",
    "\n",
    "    @timer\n",
    "    def sort():\n",
    "        # >>> TODO\n",
    "        indexes = np.flip(S.argsort(axis=None))\n",
    "        # <<< TODO\n",
    "        return indexes\n",
    "    indexes = sort()\n",
    "    return indexes\n",
    "\n",
    "\n",
    "@timer\n",
    "def test_torch(device=device):\n",
    "    @timer\n",
    "    def load():\n",
    "        # >>> TODO\n",
    "        Y = torch.stack([torch.ravel(torch.tensor(x[1])) for x in data])\n",
    "        Y = Y.to(device, dtype=float) / 255\n",
    "        # <<< TODO\n",
    "        return Y\n",
    "    Y = load()\n",
    "\n",
    "    @timer\n",
    "    def calc():\n",
    "        # >>> TODO\n",
    "        W = Y @ Y.T\n",
    "        N = torch.linalg.norm(Y, dim=1)\n",
    "        N = N[..., None] * N[None]\n",
    "        S = W / N\n",
    "        # <<< TODO\n",
    "        S = torch.triu(S, diagonal=1)\n",
    "        return S\n",
    "    S = calc()\n",
    "\n",
    "    @timer\n",
    "    def sort():\n",
    "        # >>> TODO\n",
    "        indexes = S.ravel().argsort(descending=True)\n",
    "        # <<< TODO\n",
    "        return indexes\n",
    "    indexes = sort()\n",
    "    return indexes"
   ]
  },
  {
   "cell_type": "markdown",
   "metadata": {
    "collapsed": false
   },
   "source": [
    "下面进行测试。"
   ]
  },
  {
   "cell_type": "code",
   "execution_count": 15,
   "metadata": {
    "collapsed": false
   },
   "outputs": [
    {
     "name": "stdout",
     "output_type": "stream",
     "text": [
      "Function load_and_calc() executed in 18.5146s\n",
      "Function sort() executed in 0.0865s\n",
      "Function test_numpy_for_loop() executed in 18.6254s\n",
      "--------------------------------------------------\n",
      "Function load() executed in 0.0153s\n",
      "Function calc() executed in 0.0463s\n",
      "Function sort() executed in 0.0734s\n",
      "Function test_numpy() executed in 0.1379s\n",
      "--------------------------------------------------\n",
      "Function load() executed in 0.0125s\n",
      "Function calc() executed in 0.0407s\n",
      "Function sort() executed in 0.0883s\n",
      "Function test_torch() executed in 0.1447s\n"
     ]
    }
   ],
   "source": [
    "test_numpy_for_loop()\n",
    "print('-' * 50)\n",
    "test_numpy()\n",
    "print('-' * 50)\n",
    "test_torch()\n",
    "if device == 'cuda':\n",
    "    print('-' * 50)\n",
    "    test_torch('cpu')"
   ]
  },
  {
   "cell_type": "markdown",
   "metadata": {
    "collapsed": false
   },
   "source": [
    "你有什么发现吗？请写在下面。"
   ]
  }
 ],
 "metadata": {
  "kernelspec": {
   "display_name": "Python 3",
   "language": "python",
   "name": "python3"
  },
  "language_info": {
   "codemirror_mode": {
    "name": "ipython",
    "version": 3
   },
   "file_extension": ".py",
   "mimetype": "text/x-python",
   "name": "python",
   "nbconvert_exporter": "python",
   "pygments_lexer": "ipython3",
   "version": "3.9.13"
  },
  "vscode": {
   "interpreter": {
    "hash": "70f3b6f3186ac5eb7a7b44422c7e937631bceac8e358a36f9e12771b61974c1a"
   }
  }
 },
 "nbformat": 4,
 "nbformat_minor": 0
}
