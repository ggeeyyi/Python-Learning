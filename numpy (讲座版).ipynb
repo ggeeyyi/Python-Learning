{
 "cells": [
  {
   "cell_type": "markdown",
   "metadata": {
    "collapsed": false,
    "pycharm": {
     "name": "#%% md\n"
    }
   },
   "source": [
    "# NumPy 教程\n",
    "\n",
    "> by [@RainEggplant](https://github.com/RainEggplant/)"
   ]
  },
  {
   "cell_type": "markdown",
   "metadata": {
    "collapsed": false,
    "pycharm": {
     "name": "#%% md\n"
    }
   },
   "source": [
    "## 1. 简介\n",
    "\n",
    "NumPy 是在 Python 中进行科学计算经常用到的基本包，主要用于对多维数组执行计算，有着广泛的应用场景，例如：\n",
    "\n",
    "- **机器学习：** 在机器学习中，经常需要进行各种矩阵运算，NumPy 提供了编写简单、运行快速的运算接口。此外，NumPy 数组也被用于存储训练数据和模型的参数。\n",
    "- **图像处理：** 计算机中的图像被表示为多维数组。\n",
    "- **数学任务：** 替代 MatLab 执行例如数值积分、微分、内插、外推等数学任务。\n",
    "\n",
    "要使用 NumPy，需要首先导入 `numpy` 库："
   ]
  },
  {
   "cell_type": "code",
   "execution_count": 1,
   "metadata": {
    "collapsed": false,
    "pycharm": {
     "name": "#%%\n"
    }
   },
   "outputs": [],
   "source": [
    "import numpy as np"
   ]
  },
  {
   "cell_type": "markdown",
   "metadata": {
    "collapsed": false,
    "pycharm": {
     "name": "#%% md\n"
    }
   },
   "source": [
    "`ndarray` 是 NumPy 中的基本对象，它是一个由相同类型的元素组成的多维数组，通过非负整数元组进行索引。在 NumPy，每个维度被称为轴 (`axis`) 。下面我们将围绕 `ndarray` 的基本操作，展开本次教程。"
   ]
  },
  {
   "cell_type": "markdown",
   "metadata": {
    "collapsed": false,
    "pycharm": {
     "name": "#%% md\n"
    }
   },
   "source": [
    "## 2. 数组的创建\n",
    "\n",
    "详细文档请参见 [Array creation routines](https://numpy.org/doc/stable/reference/routines.array-creation.html)。"
   ]
  },
  {
   "cell_type": "markdown",
   "metadata": {
    "collapsed": false,
    "pycharm": {
     "name": "#%% md\n"
    }
   },
   "source": [
    "### 2.1 从 python 的序列容器创建数组\n",
    "\n",
    "我们可以直接使用 [`np.array`](https://numpy.org/doc/stable/reference/generated/numpy.array.html) 从 python 的 list 或 tuple 创建数组，例如："
   ]
  },
  {
   "cell_type": "code",
   "execution_count": 2,
   "metadata": {
    "collapsed": false,
    "pycharm": {
     "name": "#%%\n"
    }
   },
   "outputs": [],
   "source": [
    "arr_1d = np.array((1, 2, 3))\n",
    "arr_2d = np.array([[1, 2, 3], [4, 5, 6]])"
   ]
  },
  {
   "cell_type": "code",
   "execution_count": 3,
   "metadata": {
    "collapsed": false,
    "pycharm": {
     "name": "#%%\n"
    }
   },
   "outputs": [
    {
     "name": "stdout",
     "output_type": "stream",
     "text": [
      "[1 2 3]\n"
     ]
    }
   ],
   "source": [
    "print(arr_1d)"
   ]
  },
  {
   "cell_type": "code",
   "execution_count": 4,
   "metadata": {
    "collapsed": false,
    "pycharm": {
     "name": "#%%\n"
    }
   },
   "outputs": [
    {
     "name": "stdout",
     "output_type": "stream",
     "text": [
      "[[1 2 3]\n",
      " [4 5 6]]\n"
     ]
    }
   ],
   "source": [
    "print(arr_2d)"
   ]
  },
  {
   "cell_type": "markdown",
   "metadata": {
    "collapsed": false,
    "pycharm": {
     "name": "#%% md\n"
    }
   },
   "source": [
    "数组有以下常用的属性："
   ]
  },
  {
   "cell_type": "code",
   "execution_count": 5,
   "metadata": {
    "collapsed": false,
    "pycharm": {
     "name": "#%%\n"
    }
   },
   "outputs": [
    {
     "name": "stdout",
     "output_type": "stream",
     "text": [
      "维度（也称 rank）： 2\n",
      "形状： (2, 3)\n",
      "元素总数： 6\n",
      "元素数据类型： int64\n"
     ]
    }
   ],
   "source": [
    "print('维度（也称 rank）：', arr_2d.ndim)\n",
    "print('形状：', arr_2d.shape)\n",
    "print('元素总数：', arr_2d.size)\n",
    "print('元素数据类型：', arr_2d.dtype)"
   ]
  },
  {
   "cell_type": "markdown",
   "metadata": {
    "collapsed": false,
    "pycharm": {
     "name": "#%% md\n"
    }
   },
   "source": [
    "### 2.2 使用 NumPy 预置的函数创建数组\n",
    "\n",
    "NumPy 预置了很多按特定规则创建数组的函数，下面介绍一些常用的函数。"
   ]
  },
  {
   "cell_type": "markdown",
   "metadata": {
    "collapsed": false,
    "pycharm": {
     "name": "#%% md\n"
    }
   },
   "source": [
    "#### 2.2.1 一维数组创建函数\n",
    "\n",
    "常用的一维数组创建函数包括：\n",
    "- [`arange([start, ]stop, [step, ])`](https://numpy.org/doc/stable/reference/generated/numpy.arange.html): 类似于 python 中的 `range`，创建以 `start` 起（含）至 `stop`（不含），步长为 `step` 的数组。\n",
    "- [`linspace(start, stop, num=50, endpoint=True)`](https://numpy.org/doc/stable/reference/generated/numpy.linspace.html): 创建从 `start` 开始（含）至 `stop` （是否包含取决于 `endpoint`），由 `num` 个均匀散布的元素组成的数组。\n",
    "- [`logspace(start, stop, num=50, endpoint=True, base=10.0)`](https://numpy.org/doc/stable/reference/generated/numpy.logspace.html): 创建从 `base ** start` 开始（含）至 `base ** stop` 结束（是否包含取决于 `endpoint`），由 `num` 个在对数尺度上均匀散布的元素组成的数组。"
   ]
  },
  {
   "cell_type": "code",
   "execution_count": 6,
   "metadata": {
    "collapsed": false,
    "pycharm": {
     "name": "#%%\n"
    }
   },
   "outputs": [
    {
     "name": "stdout",
     "output_type": "stream",
     "text": [
      "[0 1 2]\n",
      "[1 3 5]\n",
      "[ 0. 10. 20. 30. 40.]\n",
      "[ 0. 10. 20. 30. 40.]\n",
      "[   1.   10.  100. 1000.]\n"
     ]
    }
   ],
   "source": [
    "print(np.arange(3))\n",
    "print(np.arange(1, 7, 2))\n",
    "print(np.linspace(0, 40, 5))\n",
    "print(np.linspace(0, 50, 5, endpoint=False))\n",
    "print(np.logspace(0, 3, 4))"
   ]
  },
  {
   "cell_type": "markdown",
   "metadata": {
    "collapsed": false,
    "pycharm": {
     "name": "#%% md\n"
    }
   },
   "source": [
    "#### 2.2.2 二维数组创建函数\n",
    "\n",
    "常用的二维数组创建函数包括：\n",
    "- [`eye(N, M=None)`](https://numpy.org/doc/stable/reference/generated/numpy.eye.html): 创建 $N \\times M$ 的单位矩阵。\n",
    "- [`diag(v)`](https://numpy.org/doc/stable/reference/generated/numpy.diag.html): 创建以 `v` 为对角线元素的对角矩阵。"
   ]
  },
  {
   "cell_type": "code",
   "execution_count": 7,
   "metadata": {
    "collapsed": false,
    "pycharm": {
     "name": "#%%\n"
    }
   },
   "outputs": [
    {
     "data": {
      "text/plain": [
       "array([[1., 0., 0.],\n",
       "       [0., 1., 0.],\n",
       "       [0., 0., 1.]])"
      ]
     },
     "execution_count": 7,
     "metadata": {},
     "output_type": "execute_result"
    }
   ],
   "source": [
    "np.eye(3)"
   ]
  },
  {
   "cell_type": "code",
   "execution_count": 8,
   "metadata": {
    "collapsed": false,
    "pycharm": {
     "name": "#%%\n"
    }
   },
   "outputs": [
    {
     "data": {
      "text/plain": [
       "array([[1, 0, 0],\n",
       "       [0, 2, 0],\n",
       "       [0, 0, 3]])"
      ]
     },
     "execution_count": 8,
     "metadata": {},
     "output_type": "execute_result"
    }
   ],
   "source": [
    "np.diag([1, 2, 3])"
   ]
  },
  {
   "cell_type": "markdown",
   "metadata": {
    "collapsed": false,
    "pycharm": {
     "name": "#%% md\n"
    }
   },
   "source": [
    "#### 2.2.3 通用数组创建函数\n",
    "\n",
    "该类函数在创建数组时，通常需要指定数组的形状，或者给定一个参考数组。常见的通用数组创建函数包括：\n",
    "- [`zeros(shape)`](https://numpy.org/doc/stable/reference/generated/numpy.zeros.html): 创建一个形状为 `shape` 的零矩阵。\n",
    "- [`zeros_like(arr)`](https://numpy.org/doc/stable/reference/generated/numpy.zeros_like.html): 创建一个形状与 `arr` 相同的零矩阵。\n",
    "- [`ones(shape)`](https://numpy.org/doc/stable/reference/generated/numpy.ones.html): 创建一个形状为 `shape` 的全 1 矩阵。\n",
    "- [`ones_like(arr)`](https://numpy.org/doc/stable/reference/generated/numpy.ones_like.html): 创建一个形状与 `arr` 相同的全 1 矩阵。\n",
    "- [`random.random(shape)`](https://numpy.org/doc/stable/reference/random/generated/numpy.random.random.html): 创建一个形状为 `shape`，元素在 $[0, 1)$ 随机取值的矩阵。"
   ]
  },
  {
   "cell_type": "code",
   "execution_count": 4,
   "metadata": {
    "collapsed": false,
    "pycharm": {
     "name": "#%%\n"
    }
   },
   "outputs": [
    {
     "ename": "NameError",
     "evalue": "name 'np' is not defined",
     "output_type": "error",
     "traceback": [
      "\u001b[1;31m---------------------------------------------------------------------------\u001b[0m",
      "\u001b[1;31mNameError\u001b[0m                                 Traceback (most recent call last)",
      "Cell \u001b[1;32mIn[4], line 1\u001b[0m\n\u001b[1;32m----> 1\u001b[0m arr_zero \u001b[39m=\u001b[39m np\u001b[39m.\u001b[39mzeros((\u001b[39m2\u001b[39m, \u001b[39m3\u001b[39m))\n\u001b[0;32m      2\u001b[0m arr_zero\n",
      "\u001b[1;31mNameError\u001b[0m: name 'np' is not defined"
     ]
    }
   ],
   "source": [
    "arr_zero = np.zeros((2, 3))\n",
    "arr_zero"
   ]
  },
  {
   "cell_type": "code",
   "execution_count": 10,
   "metadata": {
    "collapsed": false,
    "pycharm": {
     "name": "#%%\n"
    }
   },
   "outputs": [
    {
     "data": {
      "text/plain": [
       "array([[1., 1., 1.],\n",
       "       [1., 1., 1.]])"
      ]
     },
     "execution_count": 10,
     "metadata": {},
     "output_type": "execute_result"
    }
   ],
   "source": [
    "np.ones_like(arr_zero)"
   ]
  },
  {
   "cell_type": "code",
   "execution_count": 11,
   "metadata": {
    "collapsed": false,
    "pycharm": {
     "name": "#%%\n"
    }
   },
   "outputs": [
    {
     "data": {
      "text/plain": [
       "array([[0.5458427 , 0.77776494, 0.88713936],\n",
       "       [0.51652738, 0.95571625, 0.40046199]])"
      ]
     },
     "execution_count": 11,
     "metadata": {},
     "output_type": "execute_result"
    }
   ],
   "source": [
    "np.random.random((2, 3))"
   ]
  },
  {
   "cell_type": "markdown",
   "metadata": {
    "collapsed": false,
    "pycharm": {
     "name": "#%% md\n"
    }
   },
   "source": [
    "### 注\n",
    "\n",
    "NumPy 创建数组的函数一般还可接受名为 `dtype` 的参数，用于指定元素的数据类型。可选的类型可以参见此[链接](https://www.numpy.org.cn/user/basics/types.html)。例如："
   ]
  },
  {
   "cell_type": "code",
   "execution_count": 12,
   "metadata": {
    "collapsed": false,
    "pycharm": {
     "name": "#%%\n"
    }
   },
   "outputs": [
    {
     "name": "stdout",
     "output_type": "stream",
     "text": [
      "[0]\n",
      "[0.]\n"
     ]
    }
   ],
   "source": [
    "print(np.zeros((1,), dtype=int))\n",
    "print(np.zeros((1,), dtype=np.float32))"
   ]
  },
  {
   "cell_type": "markdown",
   "metadata": {
    "collapsed": false,
    "pycharm": {
     "name": "#%% md\n"
    }
   },
   "source": [
    "## 3. 数组的索引\n",
    "\n",
    "详细文档请参见 [Indexing on ndarrays](https://numpy.org/doc/stable/user/basics.indexing.html)。"
   ]
  },
  {
   "cell_type": "markdown",
   "metadata": {
    "collapsed": false,
    "pycharm": {
     "name": "#%% md\n"
    }
   },
   "source": [
    "### 3.1 切片\n",
    "\n",
    "我们可以采用类似 python 中的 list 的方式对 ndarray 数组进行切片。但不同的是，ndarray 可以以逗号分隔，一次性指定每个维度的切片方式。\n",
    "\n",
    "![](assets/numpy_2D_slicing_diagram-1.jpg)"
   ]
  },
  {
   "cell_type": "code",
   "execution_count": 13,
   "metadata": {
    "collapsed": false,
    "pycharm": {
     "name": "#%%\n"
    }
   },
   "outputs": [
    {
     "data": {
      "text/plain": [
       "array([[11, 12, 13, 14, 15],\n",
       "       [16, 17, 18, 19, 20],\n",
       "       [21, 22, 23, 24, 25],\n",
       "       [26, 27, 28, 29, 30],\n",
       "       [31, 32, 33, 34, 35]])"
      ]
     },
     "execution_count": 13,
     "metadata": {},
     "output_type": "execute_result"
    }
   ],
   "source": [
    "arr = np.arange(11, 36).reshape((5, 5))  # `reshape` 可以改变数组形状，详见后续章节\n",
    "arr"
   ]
  },
  {
   "cell_type": "code",
   "execution_count": 14,
   "metadata": {
    "collapsed": false,
    "pycharm": {
     "name": "#%%\n"
    }
   },
   "outputs": [
    {
     "name": "stdout",
     "output_type": "stream",
     "text": [
      "[12 13 14]\n",
      "[16 21 26]\n",
      "[[11 13 15]\n",
      " [21 23 25]\n",
      " [31 33 35]]\n",
      "[12 17 22 27 32]\n"
     ]
    }
   ],
   "source": [
    "print(arr[0, 1:4])  # 注意维度变化，原来的第 0 维被压缩了\n",
    "print(arr[1:4, 0])  # 注意维度变化，原来的第 1 维被压缩了\n",
    "print(arr[::2, ::2])  # 指定步长\n",
    "print(arr[:, 1])  # 第 0 维全选"
   ]
  },
  {
   "cell_type": "markdown",
   "metadata": {
    "collapsed": false,
    "pycharm": {
     "name": "#%% md\n"
    }
   },
   "source": [
    "注意！通过切片选择返回的数组是原始数组的一个视图 (view)，并未发生数据的拷贝。在视图上做的修改都会反馈到原始数组上。比如："
   ]
  },
  {
   "cell_type": "code",
   "execution_count": 15,
   "metadata": {
    "collapsed": false,
    "pycharm": {
     "name": "#%%\n"
    }
   },
   "outputs": [
    {
     "name": "stdout",
     "output_type": "stream",
     "text": [
      "[[1 2 3]\n",
      " [4 5 6]]\n",
      "[2 5]\n",
      "[[1 9 3]\n",
      " [4 5 6]]\n"
     ]
    }
   ],
   "source": [
    "arr = np.arange(1, 7).reshape((2, 3))\n",
    "print(arr)\n",
    "view = arr[:, 1]\n",
    "print(view)\n",
    "view[0] = 9\n",
    "print(arr)"
   ]
  },
  {
   "cell_type": "markdown",
   "metadata": {
    "collapsed": false,
    "pycharm": {
     "name": "#%% md\n"
    }
   },
   "source": [
    "如何避免呢？使用 [`ndarray.copy`](https://numpy.org/doc/stable/reference/generated/numpy.ndarray.copy.html) 或 [`copy`](https://numpy.org/doc/stable/reference/generated/numpy.copy.html) 完成对数组数据的深拷贝。"
   ]
  },
  {
   "cell_type": "code",
   "execution_count": 16,
   "metadata": {
    "collapsed": false,
    "pycharm": {
     "name": "#%%\n"
    }
   },
   "outputs": [
    {
     "name": "stdout",
     "output_type": "stream",
     "text": [
      "[[1 9 3]\n",
      " [4 5 6]]\n"
     ]
    }
   ],
   "source": [
    "view = arr[:, 1].copy()\n",
    "view[0] = 7\n",
    "print(arr)"
   ]
  },
  {
   "cell_type": "markdown",
   "metadata": {
    "collapsed": false,
    "pycharm": {
     "name": "#%% md\n"
    }
   },
   "source": [
    "### 3.2 整数数组索引\n",
    "\n",
    "我们可以使用整数数组进行索引。通过为每一个维度提供一个坐标数组，可以选取任意位置的元素。此时返回的数组不再是一个 view 了。"
   ]
  },
  {
   "cell_type": "code",
   "execution_count": 17,
   "metadata": {
    "collapsed": false,
    "pycharm": {
     "name": "#%%\n"
    }
   },
   "outputs": [
    {
     "name": "stdout",
     "output_type": "stream",
     "text": [
      "[[1 2 3]\n",
      " [4 5 6]]\n",
      "[1 5 3]\n",
      "[1 5 3]\n"
     ]
    }
   ],
   "source": [
    "arr = np.arange(1, 7).reshape((2, 3))\n",
    "print(arr)\n",
    "\n",
    "# An example of integer array indexing.\n",
    "# The returned array will have shape (3,)\n",
    "print(arr[[0, 1, 0], [0, 1, 2]])\n",
    "\n",
    "# The above example of integer array indexing is equivalent to this:\n",
    "print(np.array([arr[0, 0], arr[1, 1], arr[0, 2]]))"
   ]
  },
  {
   "cell_type": "markdown",
   "metadata": {
    "collapsed": false,
    "pycharm": {
     "name": "#%% md\n"
    }
   },
   "source": [
    "### 3.3 布尔数组索引\n",
    "\n",
    "我们可以使用一个与原数组形状匹配的布尔数组来选择元素（此时返回的数组同样不再是一个 view 了）。例如："
   ]
  },
  {
   "cell_type": "code",
   "execution_count": 18,
   "metadata": {
    "collapsed": false,
    "pycharm": {
     "name": "#%%\n"
    }
   },
   "outputs": [
    {
     "name": "stdout",
     "output_type": "stream",
     "text": [
      "[[False  True False]\n",
      " [ True False  True]]\n",
      "[2 4 6]\n"
     ]
    }
   ],
   "source": [
    "mask = (arr % 2 == 0)  # 选择偶数\n",
    "print(mask)\n",
    "print(arr[mask])"
   ]
  },
  {
   "cell_type": "markdown",
   "metadata": {
    "collapsed": false,
    "pycharm": {
     "name": "#%% md\n"
    }
   },
   "source": [
    "## 4. 数组的运算"
   ]
  },
  {
   "cell_type": "markdown",
   "metadata": {
    "collapsed": false,
    "pycharm": {
     "name": "#%% md\n"
    }
   },
   "source": [
    "### 4.1 算术运算\n",
    "\n",
    "NumPy 中 `ndarray` 数组的基本运算（加、减、乘、除、整除、求余、幂等）都是逐元素 (element-wise) 的（例如这里的乘法并不是矩阵乘法）。其指定方式既可以采用 `+`, `-`, `*`, `/`, `//`, `%`, `**` 等运算符，也可以使用 NumPy 函数。"
   ]
  },
  {
   "cell_type": "code",
   "execution_count": 19,
   "metadata": {
    "collapsed": false,
    "pycharm": {
     "name": "#%%\n"
    }
   },
   "outputs": [
    {
     "name": "stdout",
     "output_type": "stream",
     "text": [
      "Elementwise sum:\n",
      "[[ 6.  8.]\n",
      " [10. 12.]]\n",
      "Elementwise product:\n",
      "[[ 5. 12.]\n",
      " [21. 32.]]\n",
      "Elementwise division:\n",
      "[[0.2        0.33333334]\n",
      " [0.42857143 0.5       ]]\n",
      "Elementwise power:\n",
      "[[ 1.  4.]\n",
      " [ 9. 16.]]\n"
     ]
    }
   ],
   "source": [
    "x = np.array([[1,2],[3,4]], dtype=np.float32)\n",
    "y = np.array([[5,6],[7,8]], dtype=np.float32)\n",
    "\n",
    "print('Elementwise sum:')\n",
    "print(x + y)  # np.add(x, y)\n",
    "\n",
    "print('Elementwise product:')\n",
    "print(x * y)  # np.multiply(x, y)\n",
    "\n",
    "print('Elementwise division:')\n",
    "print(x / y)  # np.divide(x, y)\n",
    "\n",
    "print('Elementwise power:')\n",
    "print(x ** 2)  # np.power(x, 2)"
   ]
  },
  {
   "cell_type": "markdown",
   "metadata": {
    "collapsed": false,
    "pycharm": {
     "name": "#%% md\n"
    }
   },
   "source": [
    "##### Broadcasting\n",
    "\n",
    "详细内容请参见 [Broadcasting](https://numpy.org/doc/stable/user/basics.broadcasting.html) ([中文版](https://www.numpy.org.cn/user/basics/broadcasting.html))\n",
    "\n",
    "在 NumPy 的数组运算中，通常要求参与运算的两个数组的形状相同，但在满足某些要求的情况下，NumPy 可以自动地将较小的数组进行复制，使得其与较大的数组形状相同。举例如下："
   ]
  },
  {
   "cell_type": "code",
   "execution_count": 20,
   "metadata": {
    "collapsed": false,
    "pycharm": {
     "name": "#%%\n"
    }
   },
   "outputs": [
    {
     "name": "stdout",
     "output_type": "stream",
     "text": [
      "[2. 4. 6.]\n",
      "[[[0 1]\n",
      "  [2 3]]\n",
      "\n",
      " [[4 5]\n",
      "  [6 7]]]\n",
      "[[[10 21]\n",
      "  [32 43]]\n",
      "\n",
      " [[14 25]\n",
      "  [36 47]]]\n"
     ]
    }
   ],
   "source": [
    "a = np.array([1.0, 2.0, 3.0])\n",
    "b = 2.0\n",
    "print(a * b)  # 标量广播为数组\n",
    "\n",
    "x = np.arange(8).reshape((2, 2, 2))\n",
    "y = np.array([[10, 20], [30, 40]])\n",
    "print(x)\n",
    "print(x + y)  # 小数组广播为大数组"
   ]
  },
  {
   "cell_type": "markdown",
   "metadata": {
    "collapsed": false,
    "pycharm": {
     "name": "#%% md\n"
    }
   },
   "source": [
    "### 4.2 常用数学函数\n",
    "\n",
    "NumPy 中预置了很多数学函数，大家可以自己探索用法。完整的数学函数列表见 [Mathematical functions](https://numpy.org/doc/stable/reference/routines.math.html) 和 [Statistics](https://numpy.org/doc/stable/reference/routines.statistics.html)。"
   ]
  },
  {
   "cell_type": "markdown",
   "metadata": {
    "collapsed": false,
    "pycharm": {
     "name": "#%% md\n"
    }
   },
   "source": [
    "#### 4.2.1 单点运算\n",
    "\n",
    "NumPy 中预置了例如求绝对值、（反）三角函数、（反）双曲函数、指数、对数、取整、截断等常用函数，这些函数也都是逐元素运算的。下面是一些示例："
   ]
  },
  {
   "cell_type": "code",
   "execution_count": 21,
   "metadata": {
    "collapsed": false,
    "pycharm": {
     "name": "#%%\n"
    }
   },
   "outputs": [
    {
     "name": "stdout",
     "output_type": "stream",
     "text": [
      "[0.         0.70710678 1.         0.70710678]\n",
      "[ 1.          2.71828183  7.3890561  20.08553692]\n",
      "[0. 1. 2. 3.]\n"
     ]
    }
   ],
   "source": [
    "angle = np.array([0, np.pi / 4, np.pi / 2, np.pi * 3 / 4])\n",
    "print(np.sin(angle))\n",
    "\n",
    "power = np.array([0, 1, 2, 3])\n",
    "result = np.exp(power)\n",
    "print(result)\n",
    "print(np.log(result))"
   ]
  },
  {
   "cell_type": "markdown",
   "metadata": {
    "collapsed": false,
    "pycharm": {
     "name": "#%% md\n"
    }
   },
   "source": [
    "#### 4.2.2 统计量\n",
    "\n",
    "NumPy 中预置了求平均值、中位数、方差、标准差，求和、求积，求最大、最小值的函数，很多函数可以通过 `axis` 参数指定沿某一个轴求值（不指定就是对所有元素），还可指定通过 `keepdims` 参数指定求值操作是否要保留原数组的形状。一些常用的函数如下：\n",
    "- [`sum`](https://numpy.org/doc/stable/reference/generated/numpy.sum.html): 求和。\n",
    "- [`prod`](https://numpy.org/doc/stable/reference/generated/numpy.prod.html): 求积。\n",
    "- [`mean`](https://numpy.org/doc/stable/reference/generated/numpy.mean.html): 求均值。\n",
    "- [`std`](https://numpy.org/doc/stable/reference/generated/numpy.std.html): 求标准差。\n",
    "- [`var`](https://numpy.org/doc/stable/reference/generated/numpy.var.html): 求方差。\n",
    "- [`amax`](https://numpy.org/doc/stable/reference/generated/numpy.amax.html): 求最大值。也可以通过 `max` 调用。\n",
    "- [`amin`](https://numpy.org/doc/stable/reference/generated/numpy.amin.html): 求最小值。也可以通过 `min` 调用。\n",
    "\n",
    "例如："
   ]
  },
  {
   "cell_type": "code",
   "execution_count": 22,
   "metadata": {
    "collapsed": false,
    "pycharm": {
     "name": "#%%\n"
    }
   },
   "outputs": [
    {
     "name": "stdout",
     "output_type": "stream",
     "text": [
      "[[0.76610975 0.73465233]\n",
      " [0.48720797 0.74310795]]\n",
      "0.6827694981345755\n",
      "[0.62665886 0.73888014]\n",
      "0.487207965705178\n",
      "[[0.76610975]\n",
      " [0.74310795]]\n"
     ]
    }
   ],
   "source": [
    "arr = np.random.random((2, 2))\n",
    "print(arr)\n",
    "print(np.mean(arr))  # 或 `arr.mean()`。求所有元素的平均值。\n",
    "print(arr.mean(axis=0))  # 或 `np.mean(arr, axis=0)`。对第 0 维求平均值。\n",
    "print(np.min(arr))  # 或 `arr.min()`, `np.amin(arr)`。求所有元素的最小值。\n",
    "print(arr.max(axis=1, keepdims=True))  # 对第 1 维求最大值，保留维度。"
   ]
  },
  {
   "cell_type": "markdown",
   "metadata": {
    "collapsed": false,
    "pycharm": {
     "name": "#%% md\n"
    }
   },
   "source": [
    "注意此处不要和 [`maximum`](https://numpy.org/doc/stable/reference/generated/numpy.maximum.html), [`minimum`](https://numpy.org/doc/stable/reference/generated/numpy.minimum.html) 两个函数混淆。这两个函数是对于给定的数组，返回逐元素求最大/小值的结果。"
   ]
  },
  {
   "cell_type": "markdown",
   "metadata": {
    "collapsed": false,
    "pycharm": {
     "name": "#%% md\n"
    }
   },
   "source": [
    "### 4.3 向量、矩阵运算\n",
    "\n",
    "前面提到，数组的 `*` 运算为逐元素相乘，并不是矩阵乘法。对于矩阵乘法，应当使用 `@` 运算符，或者 [`matmul`](https://numpy.org/doc/stable/reference/generated/numpy.matmul.html) 函数。当两个数组都是二维时，也可以使用 [`dot`](https://numpy.org/doc/stable/reference/generated/numpy.dot.html)。"
   ]
  },
  {
   "cell_type": "code",
   "execution_count": 23,
   "metadata": {
    "collapsed": false,
    "pycharm": {
     "name": "#%%\n"
    }
   },
   "outputs": [
    {
     "data": {
      "text/plain": [
       "array([[19., 22.],\n",
       "       [43., 50.]], dtype=float32)"
      ]
     },
     "execution_count": 23,
     "metadata": {},
     "output_type": "execute_result"
    }
   ],
   "source": [
    "x = np.array([[1,2],[3,4]], dtype=np.float32)\n",
    "y = np.array([[5,6],[7,8]], dtype=np.float32)\n",
    "x @ y  # equivalent to `np.matmul(x, y)`"
   ]
  },
  {
   "cell_type": "markdown",
   "metadata": {
    "collapsed": false,
    "pycharm": {
     "name": "#%% md\n"
    }
   },
   "source": [
    "使用 [`inner(x, y)`](https://numpy.org/doc/stable/reference/generated/numpy.inner.html) 或 [`dot(x, y)`](https://numpy.org/doc/stable/reference/generated/numpy.dot.html) 或 `x.dot(y)` 进行向量点乘。"
   ]
  },
  {
   "cell_type": "code",
   "execution_count": 24,
   "metadata": {
    "collapsed": false,
    "pycharm": {
     "name": "#%%\n"
    }
   },
   "outputs": [
    {
     "name": "stdout",
     "output_type": "stream",
     "text": [
      "32\n"
     ]
    }
   ],
   "source": [
    "x = np.array([1, 2, 3])\n",
    "y = np.array([4, 5, 6])\n",
    "print(np.dot(x, y))  # 或 x.dot(y)"
   ]
  },
  {
   "cell_type": "markdown",
   "metadata": {
    "collapsed": false,
    "pycharm": {
     "name": "#%% md\n"
    }
   },
   "source": [
    "使用 [`cross(x, y)`](https://numpy.org/doc/stable/reference/generated/numpy.cross.html) 进行向量叉乘。"
   ]
  },
  {
   "cell_type": "code",
   "execution_count": 25,
   "metadata": {
    "collapsed": false,
    "pycharm": {
     "name": "#%%\n"
    }
   },
   "outputs": [
    {
     "name": "stdout",
     "output_type": "stream",
     "text": [
      "[-3  6 -3]\n"
     ]
    }
   ],
   "source": [
    "print(np.cross(x, y))"
   ]
  },
  {
   "cell_type": "markdown",
   "metadata": {
    "collapsed": false,
    "pycharm": {
     "name": "#%% md\n"
    }
   },
   "source": [
    "使用 [`linalg.norm(x[, ord, axis, keepdims)`](https://numpy.org/doc/stable/reference/generated/numpy.linalg.norm.html) 求向量或矩阵的模。"
   ]
  },
  {
   "cell_type": "code",
   "execution_count": 26,
   "metadata": {
    "collapsed": false,
    "pycharm": {
     "name": "#%%\n"
    }
   },
   "outputs": [
    {
     "name": "stdout",
     "output_type": "stream",
     "text": [
      "1.4142135623730951\n",
      "[2.23606798 5.        ]\n"
     ]
    }
   ],
   "source": [
    "x = np.array([1, 1])\n",
    "print(np.linalg.norm(x))  # 求向量 x 的模长\n",
    "y = np.array([[1, 2], [3, 4]])\n",
    "print(np.linalg.norm(y, axis=1))  # 求 y 的每一行的模长"
   ]
  },
  {
   "cell_type": "markdown",
   "metadata": {
    "collapsed": false,
    "pycharm": {
     "name": "#%% md\n"
    }
   },
   "source": [
    "使用 [linalg.inv](https://numpy.org/doc/stable/reference/generated/numpy.linalg.inv.html) 求矩阵的逆。"
   ]
  },
  {
   "cell_type": "code",
   "execution_count": 27,
   "metadata": {
    "collapsed": false,
    "pycharm": {
     "name": "#%%\n"
    }
   },
   "outputs": [
    {
     "name": "stdout",
     "output_type": "stream",
     "text": [
      "[[-2.   1. ]\n",
      " [ 1.5 -0.5]]\n",
      "[[1. 0.]\n",
      " [0. 1.]]\n"
     ]
    }
   ],
   "source": [
    "x = np.array([[1,2],[3,4]], dtype=np.float32)\n",
    "y = np.linalg.inv(x)\n",
    "print(y)\n",
    "print(np.matmul(x, y))"
   ]
  },
  {
   "cell_type": "markdown",
   "metadata": {
    "collapsed": false,
    "pycharm": {
     "name": "#%% md\n"
    }
   },
   "source": [
    "### 4.4 排序与查找\n",
    "\n",
    "更详细的内容，请参考 [Sorting, searching, and counting](https://numpy.org/doc/stable/reference/routines.sort.html)。"
   ]
  },
  {
   "cell_type": "markdown",
   "metadata": {
    "collapsed": false,
    "pycharm": {
     "name": "#%% md\n"
    }
   },
   "source": [
    "#### 4.4.1 排序\n",
    "\n",
    "排序常用的函数是：\n",
    "- [`sort(a, axis=-1)`](https://numpy.org/doc/stable/reference/generated/numpy.sort.html): 沿着给定的 `axis` 从小到大排序元素。如果 `axis` 为 `None`，则会先把数组展平为一维，然后再对所有元素进行排序。该函数返回的是一个新数组，而如果使用 [`ndarray.sort`](https://numpy.org/doc/stable/reference/generated/numpy.ndarray.sort.html)，则会在原地进行排序，不返回值。\n",
    "- [`argsort(a, axis=-1)`](https://numpy.org/doc/stable/reference/generated/numpy.argsort.html): 按照与 `sort` 相同的规则排序元素，返回排序后的元素在原数组的排序维度上的索引。"
   ]
  },
  {
   "cell_type": "code",
   "execution_count": 28,
   "metadata": {
    "collapsed": false,
    "pycharm": {
     "name": "#%%\n"
    }
   },
   "outputs": [
    {
     "name": "stdout",
     "output_type": "stream",
     "text": [
      "[[0 3]\n",
      " [4 2]]\n",
      "[[0 3]\n",
      " [2 4]]\n",
      "[[0 2]\n",
      " [4 3]]\n",
      "[0 2 3 4]\n"
     ]
    }
   ],
   "source": [
    "x = np.array([[0, 3], [4, 2]])\n",
    "print(x)\n",
    "print(np.sort(x))  # 沿最后一维进行排序\n",
    "print(np.sort(x, axis=0))  # 沿第 0 维进行排序\n",
    "print(np.sort(x, axis=None))  # 对所有元素进行排序"
   ]
  },
  {
   "cell_type": "code",
   "execution_count": 29,
   "metadata": {
    "collapsed": false,
    "pycharm": {
     "name": "#%%\n"
    }
   },
   "outputs": [
    {
     "name": "stdout",
     "output_type": "stream",
     "text": [
      "[[0 1]\n",
      " [1 0]]\n",
      "[[0 1]\n",
      " [1 0]]\n"
     ]
    }
   ],
   "source": [
    "print(np.argsort(x))  # 沿最后一维进行排序\n",
    "print(np.argsort(x, axis=0))  # 沿第 0 维进行排序"
   ]
  },
  {
   "cell_type": "markdown",
   "metadata": {
    "collapsed": false,
    "pycharm": {
     "name": "#%% md\n"
    }
   },
   "source": [
    "如何根据 `argsort` 返回的索引从原数组提取元素呢？需要用到 [`take_along_axis(arr, indices, axis)`](https://numpy.org/doc/stable/reference/generated/numpy.take_along_axis.html)。"
   ]
  },
  {
   "cell_type": "code",
   "execution_count": 30,
   "metadata": {
    "collapsed": false,
    "pycharm": {
     "name": "#%%\n"
    }
   },
   "outputs": [
    {
     "name": "stdout",
     "output_type": "stream",
     "text": [
      "[[0 2]\n",
      " [4 3]]\n"
     ]
    }
   ],
   "source": [
    "print(np.take_along_axis(x, np.argsort(x, axis=0), axis=0))"
   ]
  },
  {
   "cell_type": "code",
   "execution_count": 31,
   "metadata": {
    "collapsed": false,
    "pycharm": {
     "name": "#%%\n"
    }
   },
   "outputs": [
    {
     "name": "stdout",
     "output_type": "stream",
     "text": [
      "[0 3 1 2]\n"
     ]
    }
   ],
   "source": [
    "print(np.argsort(x, axis=None))  # 对所有元素进行排序"
   ]
  },
  {
   "cell_type": "markdown",
   "metadata": {
    "collapsed": false,
    "pycharm": {
     "name": "#%% md\n"
    }
   },
   "source": [
    "我们发现，对所有元素进行排序返回的索引是一个一维数组，这是因为原数组在排序时被展平为了一个一维数组。那么如何根据这个索引得到元素在原数组中的多维的索引呢？这里需要用到 [`unravel_index(indices, shape)`](https://numpy.org/doc/stable/reference/generated/numpy.unravel_index.html) 函数。输入一维索引数组和原数组的形状，该函数会将一维索引转换为多维索引。"
   ]
  },
  {
   "cell_type": "code",
   "execution_count": 32,
   "metadata": {
    "collapsed": false,
    "pycharm": {
     "name": "#%%n'p\n"
    }
   },
   "outputs": [
    {
     "name": "stdout",
     "output_type": "stream",
     "text": [
      "(array([0, 1, 0, 1]), array([0, 1, 1, 0]))\n"
     ]
    }
   ],
   "source": [
    "print(np.unravel_index(np.argsort(x, axis=None), x.shape))"
   ]
  },
  {
   "cell_type": "markdown",
   "metadata": {
    "collapsed": false,
    "pycharm": {
     "name": "#%% md\n"
    }
   },
   "source": [
    "可以看到，函数返回了两个一维数组，分别对应原数组两个维度上的索引。"
   ]
  },
  {
   "cell_type": "markdown",
   "metadata": {
    "collapsed": false,
    "pycharm": {
     "name": "#%% md\n"
    }
   },
   "source": [
    "#### 4.4.2 查找\n",
    "\n",
    "常用的查找函数包括：\n",
    "- [`argmax(a, axis=None)`](https://numpy.org/doc/stable/reference/generated/numpy.argmax.html): 沿 `axis` 轴找出取值最大的元素的索引。若不指定 `axis`，则会先将数组展平到一维，然后再进行查找。\n",
    "- [`argmin(a, axis=None])`](https://numpy.org/doc/stable/reference/generated/numpy.argmin.html): 沿 `axis` 轴找出取值最小的元素的索引。若不指定 `axis`，则会先将数组展平到一维，然后再进行查找。\n",
    "\n",
    "与 `argsort` 一样，这里有时也会用到 `unravel_index` 和 `take_along_axis`。"
   ]
  },
  {
   "cell_type": "code",
   "execution_count": 33,
   "metadata": {
    "collapsed": false,
    "pycharm": {
     "name": "#%%\n"
    }
   },
   "outputs": [
    {
     "name": "stdout",
     "output_type": "stream",
     "text": [
      "[0 0 1]\n",
      "4\n"
     ]
    }
   ],
   "source": [
    "x = np.array([[0, 5, 3], [4, 6, 2]])\n",
    "print(np.argmin(x, axis=0))\n",
    "print(np.argmax(x))"
   ]
  },
  {
   "cell_type": "markdown",
   "metadata": {
    "collapsed": false,
    "pycharm": {
     "name": "#%% md\n"
    }
   },
   "source": [
    "- [`argwhere(a)`](https://numpy.org/doc/stable/reference/generated/numpy.argwhere.html): 返回数组中非零元素的索引构成的数组。数组的形状为 `(N, a.ndim)`，`N` 为查找到元素的个数。注：`True` 也是非零元素，因此我们可以传入通过条件比较得到的布尔数组来筛选出满足条件的元素。\n",
    "- [`nonzero(a)`](https://numpy.org/doc/stable/reference/generated/numpy.nonzero.html): 对数组中的非零元素，分别返回每一维的索引构成的数组。因为 `argwhere` 返回的索引数组不适合用于从原数组提取元素，所以有时会用 `nonzero` 替代。"
   ]
  },
  {
   "cell_type": "code",
   "execution_count": 34,
   "metadata": {
    "collapsed": false,
    "pycharm": {
     "name": "#%%\n"
    }
   },
   "outputs": [
    {
     "name": "stdout",
     "output_type": "stream",
     "text": [
      "[[0 1]\n",
      " [1 0]\n",
      " [1 1]]\n",
      "[0 1 1] [1 0 1]\n"
     ]
    }
   ],
   "source": [
    "print(np.argwhere(x > 3))\n",
    "ind_0, ind_1 = np.nonzero(x > 3)\n",
    "print(ind_0, ind_1)"
   ]
  },
  {
   "cell_type": "code",
   "execution_count": 35,
   "metadata": {
    "collapsed": false,
    "pycharm": {
     "name": "#%%\n"
    }
   },
   "outputs": [
    {
     "name": "stdout",
     "output_type": "stream",
     "text": [
      "[5 4 6]\n",
      "[5 4 6]\n"
     ]
    }
   ],
   "source": [
    "print(x[ind_0, ind_1])\n",
    "print(x[x > 3])  # 其实用布尔数组索引就行了"
   ]
  },
  {
   "cell_type": "markdown",
   "metadata": {
    "collapsed": false,
    "pycharm": {
     "name": "#%% md\n"
    }
   },
   "source": [
    "## 5. 数组的操作\n",
    "\n",
    "详细文档请参见 [Array manipulation routines](https://numpy.org/doc/stable/reference/routines.array-manipulation.html)。"
   ]
  },
  {
   "cell_type": "markdown",
   "metadata": {
    "collapsed": false,
    "pycharm": {
     "name": "#%% md\n"
    }
   },
   "source": [
    "### 5.1 改变数组形状\n",
    "\n",
    "- [`reshape(a, shape)`](https://numpy.org/doc/stable/reference/generated/numpy.reshape.html) / [`ndarray.reshape(shape)`](https://numpy.org/doc/stable/reference/generated/numpy.ndarray.reshape.html): 改变数组的形状为 `shape`。`shape` 里的某一维的大小可以设置为 `-1`，此时将根据数组元素个数和其他维度大小自动推断该维度的大小。\n",
    "- [`ravel(a)`](https://numpy.org/doc/stable/reference/generated/numpy.ravel.html) / [`ndarray.ravel()`](https://numpy.org/doc/stable/reference/generated/numpy.ndarray.ravel.html): 将数组展平为一维。返回的是原数组的 view。\n",
    "- [`ndarray.flatten()`](https://numpy.org/doc/stable/reference/generated/numpy.ndarray.flatten.html): 将数组展平为一维。返回的是新的数组。"
   ]
  },
  {
   "cell_type": "code",
   "execution_count": 36,
   "metadata": {
    "collapsed": false,
    "pycharm": {
     "name": "#%%\n"
    }
   },
   "outputs": [
    {
     "name": "stdout",
     "output_type": "stream",
     "text": [
      "[0 1 2 3 4 5]\n",
      "[[0 1 2]\n",
      " [3 4 5]]\n",
      "[[0 1]\n",
      " [2 3]\n",
      " [4 5]]\n"
     ]
    }
   ],
   "source": [
    "arr = np.arange(6)\n",
    "print(arr)\n",
    "print(arr.reshape((2, 3)))\n",
    "print(np.reshape(arr, (-1, 2)))"
   ]
  },
  {
   "cell_type": "code",
   "execution_count": 37,
   "metadata": {
    "collapsed": false,
    "pycharm": {
     "name": "#%%\n"
    }
   },
   "outputs": [
    {
     "name": "stdout",
     "output_type": "stream",
     "text": [
      "[[0. 0.]\n",
      " [0. 0.]]\n",
      "[0. 0. 0. 0.]\n"
     ]
    }
   ],
   "source": [
    "arr = np.zeros((2, 2))\n",
    "print(arr)\n",
    "print(np.ravel(arr))  # 或 arr.flatten()"
   ]
  },
  {
   "cell_type": "markdown",
   "metadata": {
    "collapsed": false,
    "pycharm": {
     "name": "#%% md\n"
    }
   },
   "source": [
    "- [`squeeze(a, axis=None)`](https://numpy.org/doc/stable/reference/generated/numpy.squeeze.html) / [`ndarray.squeeze(axis=None)`](https://numpy.org/doc/stable/reference/generated/numpy.ndarray.squeeze.html): 删除数组中大小为 1 的维度。如果制定了 `axis`，就只删除该维度。\n",
    "- [`expand_dims(a, axis)`](https://numpy.org/doc/stable/reference/generated/numpy.expand_dims.html): 向 `axis` 处插入一个维度。"
   ]
  },
  {
   "cell_type": "code",
   "execution_count": 38,
   "metadata": {
    "collapsed": false,
    "pycharm": {
     "name": "#%%\n"
    }
   },
   "outputs": [
    {
     "name": "stdout",
     "output_type": "stream",
     "text": [
      "[[1]\n",
      " [2]] (2, 1)\n",
      "[1 2] (2,)\n",
      "[[1 2]] (1, 2)\n"
     ]
    }
   ],
   "source": [
    "x = np.array([[1], [2]])\n",
    "print(x, x.shape)\n",
    "y = x.squeeze(1)\n",
    "print(y, y.shape)\n",
    "z = np.expand_dims(y, axis=0)\n",
    "print(z, z.shape)"
   ]
  },
  {
   "cell_type": "markdown",
   "metadata": {
    "collapsed": false,
    "pycharm": {
     "name": "#%% md\n"
    }
   },
   "source": [
    "还可以利用特殊的索引值 `np.newaxis` (也可以写 `None`) 来扩展维度。例如："
   ]
  },
  {
   "cell_type": "code",
   "execution_count": 39,
   "metadata": {
    "collapsed": false,
    "pycharm": {
     "name": "#%%\n"
    }
   },
   "outputs": [
    {
     "name": "stdout",
     "output_type": "stream",
     "text": [
      "[1 2] (2,)\n",
      "[[1 2]] (1, 2)\n",
      "[[1]\n",
      " [2]] (2, 1)\n"
     ]
    }
   ],
   "source": [
    "print(y, y.shape)\n",
    "print(y[np.newaxis], y[np.newaxis].shape)  # 扩展第 0 维。\n",
    "print(y[..., np.newaxis], y[..., np.newaxis].shape)  # 扩展最后一维。`...` 表示之前的所有维度。"
   ]
  },
  {
   "cell_type": "markdown",
   "metadata": {
    "collapsed": false,
    "pycharm": {
     "name": "#%% md\n"
    }
   },
   "source": [
    "### 5.2 转置\n",
    "- [`transpose(a, axes=None)`](https://numpy.org/doc/stable/reference/generated/numpy.transpose.html) / [`ndarray.transpose(axes=None)`](https://numpy.org/doc/stable/reference/generated/numpy.ndarray.transpose.html): 按照 `axes` 指定的维度顺序转置数组。若未指定 `axes`，则反转所有维度的顺序。\n",
    "- [`ndarray.T`](https://numpy.org/doc/stable/reference/generated/numpy.ndarray.T.html): 等同于 `ndarray.transpose()`。"
   ]
  },
  {
   "cell_type": "code",
   "execution_count": 40,
   "metadata": {
    "collapsed": false,
    "pycharm": {
     "name": "#%%\n"
    }
   },
   "outputs": [
    {
     "name": "stdout",
     "output_type": "stream",
     "text": [
      "[[1 3 5]\n",
      " [2 4 6]]\n",
      "[[1 3 5]\n",
      " [2 4 6]]\n"
     ]
    }
   ],
   "source": [
    "x = np.array([[1, 2], [3, 4], [5, 6]])\n",
    "print(np.transpose(x))\n",
    "print(x.T)"
   ]
  },
  {
   "cell_type": "code",
   "execution_count": 41,
   "metadata": {
    "collapsed": false,
    "pycharm": {
     "name": "#%%\n"
    }
   },
   "outputs": [
    {
     "name": "stdout",
     "output_type": "stream",
     "text": [
      "[[[0 1 2]\n",
      "  [3 4 5]]] (1, 2, 3)\n",
      "[[[0]\n",
      "  [1]\n",
      "  [2]]\n",
      "\n",
      " [[3]\n",
      "  [4]\n",
      "  [5]]] (2, 3, 1)\n"
     ]
    }
   ],
   "source": [
    "x = np.arange(6).reshape((1, 2, 3))\n",
    "print(x, x.shape)\n",
    "y = x.transpose((1, 2, 0))\n",
    "print(y, y.shape)"
   ]
  },
  {
   "cell_type": "markdown",
   "metadata": {
    "collapsed": false,
    "pycharm": {
     "name": "#%% md\n"
    }
   },
   "source": [
    "### 5.3 改变数据类型\n",
    "\n",
    "- [`ndarray.astype(dtype)`](https://numpy.org/doc/stable/reference/generated/numpy.ndarray.astype.html): 复制并转换数组到指定的数据类型。"
   ]
  },
  {
   "cell_type": "code",
   "execution_count": 42,
   "metadata": {
    "collapsed": false,
    "pycharm": {
     "name": "#%%\n"
    }
   },
   "outputs": [
    {
     "name": "stdout",
     "output_type": "stream",
     "text": [
      "[[0.29084244 0.93382877]\n",
      " [0.64086964 0.69280739]]\n",
      "[[ 74 238]\n",
      " [163 177]]\n"
     ]
    }
   ],
   "source": [
    "img = np.random.random((2, 2))  # 像素值取值 0~1 的图像\n",
    "print(img)\n",
    "img = (img * 255).round().astype(np.uint8)  # 转换为常见的 uint8 图像\n",
    "print(img)"
   ]
  },
  {
   "cell_type": "markdown",
   "metadata": {
    "collapsed": false,
    "pycharm": {
     "name": "#%% md\n"
    }
   },
   "source": [
    "### 5.4 数组的拼接与堆叠\n",
    "\n",
    "- [`concatenate(arrays, axis=0)`](https://numpy.org/doc/stable/reference/generated/numpy.concatenate.html): 在**已有**的维度上，拼接多个数组。若 `axis` 为 `None`，则会先将所有待拼接数组转换为一维数组，再进行拼接。\n",
    "- [`stack(arrays, axis=0)`](https://numpy.org/doc/stable/reference/generated/numpy.stack.html): 沿着**新的维度**堆叠多个数组。"
   ]
  },
  {
   "cell_type": "code",
   "execution_count": 43,
   "metadata": {
    "collapsed": false,
    "pycharm": {
     "name": "#%%\n"
    }
   },
   "outputs": [
    {
     "name": "stdout",
     "output_type": "stream",
     "text": [
      "[[1 2]\n",
      " [3 4]\n",
      " [5 6]\n",
      " [7 8]]\n",
      "[[1 2 5 6]\n",
      " [3 4 7 8]]\n"
     ]
    }
   ],
   "source": [
    "img_a = np.array([[1, 2], [3, 4]])\n",
    "img_b = np.array([[5, 6], [7, 8]])\n",
    "print(np.concatenate([img_a, img_b], axis=0))\n",
    "print(np.concatenate([img_a, img_b], axis=1))"
   ]
  },
  {
   "cell_type": "code",
   "execution_count": 44,
   "metadata": {
    "collapsed": false,
    "pycharm": {
     "name": "#%%\n"
    }
   },
   "outputs": [
    {
     "name": "stdout",
     "output_type": "stream",
     "text": [
      "[[[1 5]\n",
      "  [2 6]]\n",
      "\n",
      " [[3 7]\n",
      "  [4 8]]] (2, 2, 2)\n",
      "[[[1 2]\n",
      "  [3 4]]\n",
      "\n",
      " [[5 6]\n",
      "  [7 8]]] (2, 2, 2)\n"
     ]
    }
   ],
   "source": [
    "img_stack_channel = np.stack([img_a, img_b], axis=2)\n",
    "print(img_stack_channel, img_stack_channel.shape)\n",
    "img_stack_batch = np.stack([img_a, img_b], axis=0)\n",
    "print(img_stack_batch, img_stack_batch.shape)"
   ]
  },
  {
   "cell_type": "markdown",
   "metadata": {
    "collapsed": false,
    "pycharm": {
     "name": "#%% md\n"
    }
   },
   "source": [
    "- [`tile(arr, reps)`](https://numpy.org/doc/stable/reference/generated/numpy.tile.html): 将 `arr` 按照 `reps` 指定的维度和次数进行堆叠。"
   ]
  },
  {
   "cell_type": "code",
   "execution_count": 45,
   "metadata": {
    "collapsed": false,
    "pycharm": {
     "name": "#%%\n"
    }
   },
   "outputs": [
    {
     "name": "stdout",
     "output_type": "stream",
     "text": [
      "[0 1 2 0 1 2]\n",
      "[[0 1 2 0 1 2]\n",
      " [0 1 2 0 1 2]]\n"
     ]
    }
   ],
   "source": [
    "arr = np.array([0, 1, 2])\n",
    "print(np.tile(arr, 2))\n",
    "print(np.tile(arr, (2, 2)))"
   ]
  },
  {
   "cell_type": "markdown",
   "metadata": {
    "collapsed": false,
    "pycharm": {
     "name": "#%% md\n"
    }
   },
   "source": [
    "## 6. 数组的文件 I/O\n",
    "\n",
    "完整文档请参见 [Input and output](https://numpy.org/doc/stable/reference/routines.io.html)。\n",
    "\n",
    "有时，我们需要将某个数组保存到文件，或是从文件中读取数组。通常使用如下函数：\n",
    "- [`load(file)`](https://numpy.org/doc/stable/reference/generated/numpy.load.html): 从 `.npy` 或 `.npz` 文件读取数组。\n",
    "- [`save(file, arr)`](https://numpy.org/doc/stable/reference/generated/numpy.save.html): 保存单个数组到 `.npy` 文件。\n",
    "- [`savez(file, key0=arr0[, key1=arr1])`](https://numpy.org/doc/stable/reference/generated/numpy.savez.html): 保存多个数组到 `.npz` 文件。\n",
    "- [`savez_compressed(file, key0=arr0[, key1=arr1])`](https://numpy.org/doc/stable/reference/generated/numpy.savez_compressed.html): 同 `savez`，但会进行压缩处理。\n",
    "\n",
    "示例如下："
   ]
  },
  {
   "cell_type": "code",
   "execution_count": 46,
   "metadata": {
    "collapsed": false,
    "pycharm": {
     "name": "#%%\n"
    }
   },
   "outputs": [
    {
     "name": "stdout",
     "output_type": "stream",
     "text": [
      "[[0.45097155 0.6553264 ]\n",
      " [0.65560497 0.64445403]]\n",
      "[[0.45097155 0.6553264 ]\n",
      " [0.65560497 0.64445403]]\n"
     ]
    }
   ],
   "source": [
    "x = np.random.random((2, 2))\n",
    "print(x)\n",
    "np.save('x.npy', x)\n",
    "\n",
    "x_loaded = np.load('x.npy')\n",
    "print(x_loaded)"
   ]
  },
  {
   "cell_type": "code",
   "execution_count": 47,
   "metadata": {
    "collapsed": false,
    "pycharm": {
     "name": "#%%\n"
    }
   },
   "outputs": [
    {
     "name": "stdout",
     "output_type": "stream",
     "text": [
      "[[0.84908997 0.17783896]\n",
      " [0.2103803  0.83768099]]\n",
      "[[0.45097155 0.6553264 ]\n",
      " [0.65560497 0.64445403]]\n",
      "[[0.84908997 0.17783896]\n",
      " [0.2103803  0.83768099]]\n"
     ]
    }
   ],
   "source": [
    "y = np.random.random((2, 2))\n",
    "print(y)\n",
    "np.savez('arrays.npz', x=x, y=y)\n",
    "\n",
    "data = np.load('arrays.npz')\n",
    "x_loaded, y_loaded = data['x'], data['y']\n",
    "print(x_loaded)\n",
    "print(y_loaded)"
   ]
  },
  {
   "attachments": {},
   "cell_type": "markdown",
   "metadata": {
    "collapsed": false,
    "pycharm": {
     "name": "#%% md\n"
    }
   },
   "source": [
    "## 写在最后\n",
    "\n",
    "本次 NumPy 教程就到这里了。这篇教程涵盖了 NumPy 的基本使用方法和最常用到的函数，但相比 NumPy 的全部功能来说只是冰山一角。所以相信大家也注意到了在本教程的每一节，我几乎都附上了更完整的官方教程链接。对于每一个 NumPy 函数，我也都附上了链接，便于你查阅该函数更详细的用法和示例。要熟练掌握一项工具的使用，学会自行查阅文档与多加练习是必不可少的。\n",
    "\n",
    "最后，再和同学们分享一些浅薄的编程经验：\n",
    "- 自学能力（包括阅读教程、文档的能力，利用搜索工具解决问题的能力等）**非常重要**！\n",
    "- 有条件的话，尽量使用 Google 查阅编程、学术问题，尽量少用百度。\n",
    "- 学会使用英文描述与搜索问题。\n",
    "- 推荐几个网站：\n",
    "  - https://stackoverflow.com/ : 编程 Q&A 平台\n",
    "  - https://github.com/ : 开源代码托管平台\n",
    "\n",
    "祝同学们学业、科研顺利，祝大家新年快乐！"
   ]
  }
 ],
 "metadata": {
  "kernelspec": {
   "display_name": "Python 3",
   "language": "python",
   "name": "python3"
  },
  "language_info": {
   "codemirror_mode": {
    "name": "ipython",
    "version": 3
   },
   "file_extension": ".py",
   "mimetype": "text/x-python",
   "name": "python",
   "nbconvert_exporter": "python",
   "pygments_lexer": "ipython3",
   "version": "3.10.10"
  },
  "vscode": {
   "interpreter": {
    "hash": "7eb9ac7ddc3631ce60c0acdd480ad2656a0244aaea55381dca5e5cfb1c75d288"
   }
  }
 },
 "nbformat": 4,
 "nbformat_minor": 0
}
