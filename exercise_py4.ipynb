{
 "cells": [
  {
   "cell_type": "markdown",
   "id": "3164317a",
   "metadata": {},
   "source": [
    "1. 在一个Figure的两个Axes内分别绘制y=log(x)在x=0.01-100区间内的曲线。左边的Axes内采用线性（默认）横坐标绘图，右边的Axes内采用对数横坐标绘图。左边的曲线用蓝色，右边的曲线用绿色。为每个Axes添加你自己喜欢的横坐标标签、纵坐标标签和题目。以png格式保存这张图片。"
   ]
  },
  {
   "cell_type": "code",
   "execution_count": null,
   "id": "c515996c",
   "metadata": {},
   "outputs": [],
   "source": [
    "import matplotlib as mpl\n",
    "from matplotlib import pyplot as plt\n",
    "from PIL import Image\n",
    "import numpy as np"
   ]
  },
  {
   "cell_type": "code",
   "execution_count": null,
   "id": "665927f3",
   "metadata": {},
   "outputs": [],
   "source": [
    "#题1 \n",
    "# >>> TODO\n",
    "\n",
    "\n",
    "# <<< TODO"
   ]
  },
  {
   "attachments": {},
   "cell_type": "markdown",
   "id": "b14257fb",
   "metadata": {},
   "source": [
    "2. 利用第1讲练习2生成的字符图像数据集，分别统计每幅图像上半部和下半部的黑像素数目（可利用PIL库），把这两个数值组成该图像的特征向量。全部统计完成后，绘制所有图像样本在特征空间的散点图，注明横纵坐标含义及图题。"
   ]
  },
  {
   "cell_type": "code",
   "execution_count": null,
   "id": "cd0f46d8",
   "metadata": {},
   "outputs": [],
   "source": [
    "chars = [\n",
    "    range(0x0021,0x007E+1),range(0x00A1,0x00AC+1),range(0x00AE,0x0377+1),range(0x037A,0x037F+1),\n",
    "    range(0x0384,0x038A+1),range(0x038C,0x038C+1),range(0x038E,0x052F+1)\n",
    "]\n",
    "\n",
    "chars = [j for i in chars for j in i] #图像名称，参见第1讲练习2\n",
    "\n",
    "# >>> TODO\n",
    "\n",
    "\n",
    "# <<< TODO"
   ]
  },
  {
   "cell_type": "markdown",
   "id": "333a54f3",
   "metadata": {},
   "source": [
    "3. 对于上一步生成的特征向量，估计二元正态分布的均值向量和协方差矩阵，绘制二元正态分布概率密度函数的三维曲面图"
   ]
  },
  {
   "cell_type": "code",
   "execution_count": null,
   "id": "43d739ce",
   "metadata": {},
   "outputs": [],
   "source": [
    "\n",
    "\n",
    "# >>> TODO\n",
    "\n",
    "# <<< TODO\n",
    "print(average) #打印估计的均值向量\n",
    "\n",
    "# >>> TODO\n",
    "\n",
    "# <<< TODO\n",
    "print(cov) #打印估计的协方差矩阵\n",
    "\n",
    "# >>> TODO #绘图\n",
    "\n",
    "# <<< TODO"
   ]
  },
  {
   "attachments": {},
   "cell_type": "markdown",
   "id": "cb46af6b",
   "metadata": {},
   "source": [
    "4. 在大作业1中，我们计算了不同算法的运行时间（例如 Numpy采用循环计算，Numpy矩阵计算，Pytorch Tensor矩阵计算），为了使结果更加直观，我们用条形图来对实验中得到的各个部分的运行时间进行展示。如有需要，可以考虑利用`plt.yscale(\"log\")`设置条形图纵坐标为对数坐标，使图像更为清晰。"
   ]
  },
  {
   "cell_type": "code",
   "execution_count": null,
   "id": "8136be9e",
   "metadata": {},
   "outputs": [],
   "source": [
    "plt.rcParams['font.sans-serif'] = ['Microsoft YaHei']# 用来正常显示中文标签\n",
    "plt.rcParams['axes.unicode_minus'] = False  # 用来正常显示负号\n",
    "\n",
    "N = 4 #load,calc,sort向量中四个元素依次对应'Numpy循环计算', 'Numpy矩阵计算', 'Pytorch(cuda)', 'Pytorch(cpu)'\n",
    "load = (0, 0.0105, 0.0203, 0.0143)  # 作业中得到的时间数据\n",
    "calc = (13.2734, 0.0362, 0.0004, 0.0360)\n",
    "sort = (0.0742, 0.0713, 0.0003, 0.0913)\n",
    "\n",
    "# >>> TODO\n",
    "\n",
    "# <<< TODO"
   ]
  }
 ],
 "metadata": {
  "kernelspec": {
   "display_name": "Python 3",
   "language": "python",
   "name": "python3"
  },
  "language_info": {
   "codemirror_mode": {
    "name": "ipython",
    "version": 3
   },
   "file_extension": ".py",
   "mimetype": "text/x-python",
   "name": "python",
   "nbconvert_exporter": "python",
   "pygments_lexer": "ipython3",
   "version": "3.9.13"
  },
  "vscode": {
   "interpreter": {
    "hash": "70f3b6f3186ac5eb7a7b44422c7e937631bceac8e358a36f9e12771b61974c1a"
   }
  }
 },
 "nbformat": 4,
 "nbformat_minor": 5
}
